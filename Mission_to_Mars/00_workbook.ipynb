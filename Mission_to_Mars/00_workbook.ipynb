{
 "cells": [
  {
   "cell_type": "markdown",
   "id": "educational-carpet",
   "metadata": {},
   "source": [
    "### Web Scraping Challenge: Mission to Mars"
   ]
  },
  {
   "cell_type": "code",
   "execution_count": 2,
   "id": "circular-comedy",
   "metadata": {},
   "outputs": [],
   "source": [
    "#Libraries and dependencies\n",
    "import pandas as pd\n",
    "from bs4 import BeautifulSoup as bs\n",
    "from splinter import Browser\n",
    "from webdriver_manager.chrome import ChromeDriverManager"
   ]
  },
  {
   "cell_type": "markdown",
   "id": "opponent-surrey",
   "metadata": {},
   "source": [
    "##### Mars Articles"
   ]
  },
  {
   "cell_type": "code",
   "execution_count": 2,
   "id": "catholic-glossary",
   "metadata": {},
   "outputs": [
    {
     "name": "stderr",
     "output_type": "stream",
     "text": [
      "\n",
      "\n",
      "====== WebDriver manager ======\n",
      "Current google-chrome version is 91.0.4472\n",
      "Get LATEST driver version for 91.0.4472\n",
      "Driver [/Users/martinsingla/.wdm/drivers/chromedriver/mac64/91.0.4472.19/chromedriver] found in cache\n"
     ]
    }
   ],
   "source": [
    "# Setup splinter\n",
    "executable_path = {'executable_path': ChromeDriverManager().install()}\n",
    "browser = Browser('chrome', **executable_path, headless=False)\n",
    "\n",
    "#url to scrap\n",
    "url = 'https://redplanetscience.com/'\n",
    "browser.visit(url)\n",
    "\n",
    "#find dates, titles and paragraphs\n",
    "html = browser.html\n",
    "soup = bs(html, 'html.parser')\n",
    "\n",
    "dates = soup.find_all('div', class_= 'list_date')\n",
    "titles = soup.find_all('div', class_= 'content_title')\n",
    "paragraphs = soup.find_all('div', class_= 'list_date')\n",
    "\n",
    "browser.quit()"
   ]
  },
  {
   "cell_type": "code",
   "execution_count": 3,
   "id": "pharmaceutical-november",
   "metadata": {},
   "outputs": [
    {
     "name": "stdout",
     "output_type": "stream",
     "text": [
      "June 6, 2021\n",
      "NASA Adds Return Sample Scientists to Mars 2020 Leadership Team\n",
      "June 6, 2021\n",
      "----------------------------\n",
      "June 5, 2021\n",
      "Mars Helicopter Attached to NASA's Perseverance Rover\n",
      "June 5, 2021\n",
      "----------------------------\n",
      "June 4, 2021\n",
      "Air Deliveries Bring NASA's Perseverance Mars Rover Closer to Launch\n",
      "June 4, 2021\n",
      "----------------------------\n",
      "June 4, 2021\n",
      "NASA's Curiosity Keeps Rolling As Team Operates Rover From Home\n",
      "June 4, 2021\n",
      "----------------------------\n",
      "June 3, 2021\n",
      "Curiosity Mars Rover's Summer Road Trip Has Begun\n",
      "June 3, 2021\n",
      "----------------------------\n",
      "June 1, 2021\n",
      "NASA's Perseverance Rover Goes Through Trials by Fire, Ice, Light and Sound\n",
      "June 1, 2021\n",
      "----------------------------\n",
      "June 1, 2021\n",
      "NASA's Perseverance Rover Will Look at Mars Through These 'Eyes'\n",
      "June 1, 2021\n",
      "----------------------------\n",
      "May 31, 2021\n",
      "NASA to Reveal Name of Its Next Mars Rover\n",
      "May 31, 2021\n",
      "----------------------------\n",
      "May 31, 2021\n",
      "NASA's Perseverance Rover Attached to Atlas V Rocket\n",
      "May 31, 2021\n",
      "----------------------------\n",
      "May 27, 2021\n",
      "NASA to Broadcast Mars 2020 Perseverance Launch, Prelaunch Activities\n",
      "May 27, 2021\n",
      "----------------------------\n",
      "May 17, 2021\n",
      "With Mars Methane Mystery Unsolved, Curiosity Serves Scientists a New One: Oxygen\n",
      "May 17, 2021\n",
      "----------------------------\n",
      "May 16, 2021\n",
      "Newfound Martian Aurora Actually the Most Common; Sheds Light on Mars' Changing Climate\n",
      "May 16, 2021\n",
      "----------------------------\n",
      "May 11, 2021\n",
      "NASA Updates Mars 2020 Mission Environmental Review\n",
      "May 11, 2021\n",
      "----------------------------\n",
      "May 9, 2021\n",
      "NASA's MAVEN Explores Mars to Understand Radio Interference at Earth\n",
      "May 9, 2021\n",
      "----------------------------\n",
      "May 7, 2021\n",
      "All About the Laser (and Microphone) Atop Mars 2020, NASA's Next Rover\n",
      "May 7, 2021\n",
      "----------------------------\n"
     ]
    }
   ],
   "source": [
    "#Save data\n",
    "\n",
    "articles = []\n",
    "for i in range(0, len(dates)):\n",
    "    print(dates[i].text)\n",
    "    print(titles[i].text)\n",
    "    print(paragraphs[i].text)\n",
    "    print('----------------------------')\n",
    "    \n",
    "    articles.append({\n",
    "        'date': dates[i],\n",
    "        'title': titles[i],\n",
    "        'paragraph': paragraphs[i]\n",
    "    })"
   ]
  },
  {
   "cell_type": "markdown",
   "id": "aggregate-scholar",
   "metadata": {},
   "source": [
    "##### Mars Feature Images"
   ]
  },
  {
   "cell_type": "code",
   "execution_count": 4,
   "id": "becoming-intellectual",
   "metadata": {},
   "outputs": [
    {
     "name": "stderr",
     "output_type": "stream",
     "text": [
      "\n",
      "\n",
      "====== WebDriver manager ======\n",
      "Current google-chrome version is 91.0.4472\n",
      "Get LATEST driver version for 91.0.4472\n",
      "Driver [/Users/martinsingla/.wdm/drivers/chromedriver/mac64/91.0.4472.19/chromedriver] found in cache\n"
     ]
    }
   ],
   "source": [
    "# Setup splinter\n",
    "executable_path = {'executable_path': ChromeDriverManager().install()}\n",
    "browser = Browser('chrome', **executable_path, headless=False)\n",
    "\n",
    "#url to scrap\n",
    "url = 'https://spaceimages-mars.com/'\n",
    "browser.visit(url)\n",
    "\n",
    "#Navigate\n",
    "browser.links.find_by_partial_text('FULL IMAGE').click()\n",
    "\n",
    "#create soup and scrap\n",
    "html = browser.html\n",
    "soup = bs(html, 'html.parser')\n",
    "\n",
    "featured_image_url = soup.find_all('img', class_= 'fancybox-image')\n",
    "featured_image_url = 'https://spaceimages-mars.com/'+featured_image_url[0]['src']\n",
    "\n",
    "#End browser session\n",
    "browser.quit()"
   ]
  },
  {
   "cell_type": "code",
   "execution_count": 5,
   "id": "minor-bahamas",
   "metadata": {},
   "outputs": [
    {
     "name": "stdout",
     "output_type": "stream",
     "text": [
      "https://spaceimages-mars.com/image/featured/mars1.jpg\n"
     ]
    }
   ],
   "source": [
    "#print results\n",
    "print(featured_image_url)"
   ]
  },
  {
   "cell_type": "markdown",
   "id": "smoking-tender",
   "metadata": {},
   "source": [
    "##### Mars Facts"
   ]
  },
  {
   "cell_type": "code",
   "execution_count": 6,
   "id": "eastern-plaintiff",
   "metadata": {},
   "outputs": [
    {
     "data": {
      "text/html": [
       "<div>\n",
       "<style scoped>\n",
       "    .dataframe tbody tr th:only-of-type {\n",
       "        vertical-align: middle;\n",
       "    }\n",
       "\n",
       "    .dataframe tbody tr th {\n",
       "        vertical-align: top;\n",
       "    }\n",
       "\n",
       "    .dataframe thead th {\n",
       "        text-align: right;\n",
       "    }\n",
       "</style>\n",
       "<table border=\"1\" class=\"dataframe\">\n",
       "  <thead>\n",
       "    <tr style=\"text-align: right;\">\n",
       "      <th></th>\n",
       "      <th>0</th>\n",
       "      <th>1</th>\n",
       "      <th>2</th>\n",
       "    </tr>\n",
       "  </thead>\n",
       "  <tbody>\n",
       "    <tr>\n",
       "      <th>0</th>\n",
       "      <td>Mars - Earth Comparison</td>\n",
       "      <td>Mars</td>\n",
       "      <td>Earth</td>\n",
       "    </tr>\n",
       "    <tr>\n",
       "      <th>1</th>\n",
       "      <td>Diameter:</td>\n",
       "      <td>6,779 km</td>\n",
       "      <td>12,742 km</td>\n",
       "    </tr>\n",
       "    <tr>\n",
       "      <th>2</th>\n",
       "      <td>Mass:</td>\n",
       "      <td>6.39 × 10^23 kg</td>\n",
       "      <td>5.97 × 10^24 kg</td>\n",
       "    </tr>\n",
       "    <tr>\n",
       "      <th>3</th>\n",
       "      <td>Moons:</td>\n",
       "      <td>2</td>\n",
       "      <td>1</td>\n",
       "    </tr>\n",
       "    <tr>\n",
       "      <th>4</th>\n",
       "      <td>Distance from Sun:</td>\n",
       "      <td>227,943,824 km</td>\n",
       "      <td>149,598,262 km</td>\n",
       "    </tr>\n",
       "  </tbody>\n",
       "</table>\n",
       "</div>"
      ],
      "text/plain": [
       "                         0                1                2\n",
       "0  Mars - Earth Comparison             Mars            Earth\n",
       "1                Diameter:         6,779 km        12,742 km\n",
       "2                    Mass:  6.39 × 10^23 kg  5.97 × 10^24 kg\n",
       "3                   Moons:                2                1\n",
       "4       Distance from Sun:   227,943,824 km   149,598,262 km"
      ]
     },
     "execution_count": 6,
     "metadata": {},
     "output_type": "execute_result"
    }
   ],
   "source": [
    "url = 'https://galaxyfacts-mars.com/'\n",
    "tables = pd.read_html(url)\n",
    "tables[0].head()"
   ]
  },
  {
   "cell_type": "code",
   "execution_count": 8,
   "id": "rough-ocean",
   "metadata": {},
   "outputs": [
    {
     "data": {
      "text/html": [
       "<div>\n",
       "<style scoped>\n",
       "    .dataframe tbody tr th:only-of-type {\n",
       "        vertical-align: middle;\n",
       "    }\n",
       "\n",
       "    .dataframe tbody tr th {\n",
       "        vertical-align: top;\n",
       "    }\n",
       "\n",
       "    .dataframe thead th {\n",
       "        text-align: right;\n",
       "    }\n",
       "</style>\n",
       "<table border=\"1\" class=\"dataframe\">\n",
       "  <thead>\n",
       "    <tr style=\"text-align: right;\">\n",
       "      <th></th>\n",
       "      <th>Mars</th>\n",
       "      <th>Earth</th>\n",
       "    </tr>\n",
       "    <tr>\n",
       "      <th>Comparison</th>\n",
       "      <th></th>\n",
       "      <th></th>\n",
       "    </tr>\n",
       "  </thead>\n",
       "  <tbody>\n",
       "    <tr>\n",
       "      <th>Diameter:</th>\n",
       "      <td>6,779 km</td>\n",
       "      <td>12,742 km</td>\n",
       "    </tr>\n",
       "    <tr>\n",
       "      <th>Mass:</th>\n",
       "      <td>6.39 × 10^23 kg</td>\n",
       "      <td>5.97 × 10^24 kg</td>\n",
       "    </tr>\n",
       "    <tr>\n",
       "      <th>Moons:</th>\n",
       "      <td>2</td>\n",
       "      <td>1</td>\n",
       "    </tr>\n",
       "    <tr>\n",
       "      <th>Distance from Sun:</th>\n",
       "      <td>227,943,824 km</td>\n",
       "      <td>149,598,262 km</td>\n",
       "    </tr>\n",
       "    <tr>\n",
       "      <th>Length of Year:</th>\n",
       "      <td>687 Earth days</td>\n",
       "      <td>365.24 days</td>\n",
       "    </tr>\n",
       "    <tr>\n",
       "      <th>Temperature:</th>\n",
       "      <td>-87 to -5 °C</td>\n",
       "      <td>-88 to 58°C</td>\n",
       "    </tr>\n",
       "  </tbody>\n",
       "</table>\n",
       "</div>"
      ],
      "text/plain": [
       "                               Mars            Earth\n",
       "Comparison                                          \n",
       "Diameter:                  6,779 km        12,742 km\n",
       "Mass:               6.39 × 10^23 kg  5.97 × 10^24 kg\n",
       "Moons:                            2                1\n",
       "Distance from Sun:   227,943,824 km   149,598,262 km\n",
       "Length of Year:      687 Earth days      365.24 days\n",
       "Temperature:           -87 to -5 °C      -88 to 58°C"
      ]
     },
     "execution_count": 8,
     "metadata": {},
     "output_type": "execute_result"
    }
   ],
   "source": [
    "#Format table\n",
    "mars_data = tables[0]\n",
    "mars_data.columns = ['Comparison', 'Mars', 'Earth']\n",
    "mars_data = mars_data.iloc[1:len(mars_data),:]\n",
    "mars_data = mars_data.set_index('Comparison')\n",
    "mars_data"
   ]
  },
  {
   "cell_type": "markdown",
   "id": "boolean-spine",
   "metadata": {},
   "source": [
    "##### Mars Hemispheres"
   ]
  },
  {
   "cell_type": "code",
   "execution_count": 4,
   "id": "moved-plate",
   "metadata": {},
   "outputs": [
    {
     "name": "stderr",
     "output_type": "stream",
     "text": [
      "\n",
      "\n",
      "====== WebDriver manager ======\n",
      "Current google-chrome version is 91.0.4472\n",
      "Get LATEST driver version for 91.0.4472\n",
      "Driver [/Users/martinsingla/.wdm/drivers/chromedriver/mac64/91.0.4472.19/chromedriver] found in cache\n"
     ]
    }
   ],
   "source": [
    "# Setup splinter\n",
    "executable_path = {'executable_path': ChromeDriverManager().install()}\n",
    "browser = Browser('chrome', **executable_path, headless=False)\n",
    "\n",
    "#url to scrap\n",
    "url = 'https://marshemispheres.com/'\n",
    "browser.visit(url)\n",
    "\n",
    "hemisphere_image_urls = []\n",
    "\n",
    "for i in range(0, 4):\n",
    "    \n",
    "    links_found = browser.links.find_by_partial_text('Hemisphere Enhanced')\n",
    "    links_found[i].click()\n",
    "    html = browser.html\n",
    "    soup = bs(html, 'html.parser')\n",
    "    \n",
    "    title = soup.find('h2', class_= 'title').text\n",
    "    \n",
    "    img_url = soup.find('div', class_= 'downloads')\n",
    "    img_url = img_url.find('a', target= '_blank')['href']\n",
    "    img_url = 'https://marshemispheres.com/' + img_url\n",
    "    \n",
    "    hemisphere_image_urls.append({\n",
    "        'Title': title,\n",
    "        'Image URL': img_url\n",
    "    })\n",
    "    \n",
    "    browser.links.find_by_partial_text('Back').click()\n",
    "\n",
    "#End browser session\n",
    "browser.quit()"
   ]
  }
 ],
 "metadata": {
  "kernelspec": {
   "display_name": "Python 3",
   "language": "python",
   "name": "python3"
  },
  "language_info": {
   "codemirror_mode": {
    "name": "ipython",
    "version": 3
   },
   "file_extension": ".py",
   "mimetype": "text/x-python",
   "name": "python",
   "nbconvert_exporter": "python",
   "pygments_lexer": "ipython3",
   "version": "3.7.10"
  }
 },
 "nbformat": 4,
 "nbformat_minor": 5
}
